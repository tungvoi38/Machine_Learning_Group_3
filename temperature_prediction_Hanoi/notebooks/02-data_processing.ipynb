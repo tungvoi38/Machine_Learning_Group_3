{
 "cells": [
  {
   "cell_type": "markdown",
   "id": "a36e4cfd",
   "metadata": {},
   "source": [
    "# Data Processing\n",
    "\n",
    "In this notebook, we will prepare the dataset for modeling.  "
   ]
  },
  {
   "cell_type": "code",
   "execution_count": 7,
   "id": "f9ae9df5",
   "metadata": {},
   "outputs": [],
   "source": [
    "import pandas as pd\n",
    "import numpy as np"
   ]
  },
  {
   "cell_type": "markdown",
   "id": "1a82abde",
   "metadata": {},
   "source": [
    "# I. Data daily"
   ]
  },
  {
   "cell_type": "code",
   "execution_count": 8,
   "id": "8e48ee47",
   "metadata": {},
   "outputs": [],
   "source": [
    "# Load the dataset\n",
    "df_daily = pd.read_excel(r\"../data/raw/hanoi_daily.xlsx\")"
   ]
  },
  {
   "cell_type": "code",
   "execution_count": 9,
   "id": "d9a8cbd1",
   "metadata": {},
   "outputs": [
    {
     "name": "stdout",
     "output_type": "stream",
     "text": [
      "Numeric features: ['tempmax', 'tempmin', 'temp', 'feelslikemax', 'feelslikemin', 'feelslike', 'dew', 'humidity', 'precip', 'precipprob', 'precipcover', 'snow', 'snowdepth', 'windgust', 'windspeed', 'winddir', 'sealevelpressure', 'cloudcover', 'visibility', 'solarradiation', 'solarenergy', 'uvindex', 'severerisk', 'moonphase']\n",
      "Categorical features: ['name', 'datetime', 'preciptype', 'sunrise', 'sunset', 'conditions', 'description', 'icon', 'stations']\n"
     ]
    }
   ],
   "source": [
    "# Xác định loại dữ liệu\n",
    "numerical_features = df_daily.select_dtypes(include=['float64', 'int64']).columns.tolist()\n",
    "categorical_features = df_daily.select_dtypes(include=['object']).columns.tolist()\n",
    "\n",
    "print(\"Numeric features:\", numerical_features)\n",
    "print(\"Categorical features:\", categorical_features)"
   ]
  },
  {
   "cell_type": "code",
   "execution_count": 10,
   "id": "75e9e270",
   "metadata": {},
   "outputs": [],
   "source": [
    "# Chia train test"
   ]
  },
  {
   "cell_type": "code",
   "execution_count": 11,
   "id": "9829b8c4",
   "metadata": {},
   "outputs": [
    {
     "name": "stdout",
     "output_type": "stream",
     "text": [
      "Số lượng giá trị thiếu:\n",
      " name                   0\n",
      "datetime               0\n",
      "tempmax                0\n",
      "tempmin                0\n",
      "temp                   0\n",
      "feelslikemax           0\n",
      "feelslikemin           0\n",
      "feelslike              0\n",
      "dew                    0\n",
      "humidity               0\n",
      "precip                 0\n",
      "precipprob             0\n",
      "precipcover            0\n",
      "preciptype          1042\n",
      "snow                   0\n",
      "snowdepth              0\n",
      "windgust               0\n",
      "windspeed              0\n",
      "winddir                0\n",
      "sealevelpressure       0\n",
      "cloudcover             0\n",
      "visibility             0\n",
      "solarradiation         0\n",
      "solarenergy            0\n",
      "uvindex                0\n",
      "severerisk          2566\n",
      "sunrise                0\n",
      "sunset                 0\n",
      "moonphase              0\n",
      "conditions             0\n",
      "description            0\n",
      "icon                   0\n",
      "stations               0\n",
      "dtype: int64\n",
      "\n",
      "Tỷ lệ thiếu (%):\n",
      " name                 0.00\n",
      "datetime             0.00\n",
      "tempmax              0.00\n",
      "tempmin              0.00\n",
      "temp                 0.00\n",
      "feelslikemax         0.00\n",
      "feelslikemin         0.00\n",
      "feelslike            0.00\n",
      "dew                  0.00\n",
      "humidity             0.00\n",
      "precip               0.00\n",
      "precipprob           0.00\n",
      "precipcover          0.00\n",
      "preciptype          26.53\n",
      "snow                 0.00\n",
      "snowdepth            0.00\n",
      "windgust             0.00\n",
      "windspeed            0.00\n",
      "winddir              0.00\n",
      "sealevelpressure     0.00\n",
      "cloudcover           0.00\n",
      "visibility           0.00\n",
      "solarradiation       0.00\n",
      "solarenergy          0.00\n",
      "uvindex              0.00\n",
      "severerisk          65.34\n",
      "sunrise              0.00\n",
      "sunset               0.00\n",
      "moonphase            0.00\n",
      "conditions           0.00\n",
      "description          0.00\n",
      "icon                 0.00\n",
      "stations             0.00\n",
      "dtype: float64\n",
      "\n",
      "Số dòng trùng lặp: 0\n"
     ]
    }
   ],
   "source": [
    "# Kiểm tra missing values và duplicates\n",
    "print(\"Số lượng giá trị thiếu:\\n\", df_daily.isnull().sum())\n",
    "print(\"\\nTỷ lệ thiếu (%):\\n\", (df_daily.isnull().mean() * 100).round(2))\n",
    "\n",
    "dupes_daily = df_daily.duplicated().sum()\n",
    "print(f\"\\nSố dòng trùng lặp: {dupes_daily}\")"
   ]
  },
  {
   "cell_type": "code",
   "execution_count": 12,
   "id": "b448da2a",
   "metadata": {},
   "outputs": [],
   "source": [
    "# Xử lý missing values cho từng tập"
   ]
  },
  {
   "cell_type": "code",
   "execution_count": 13,
   "id": "0e23be23",
   "metadata": {},
   "outputs": [
    {
     "name": "stdout",
     "output_type": "stream",
     "text": [
      "Số lượng outliers (theo từng cột):\n",
      " tempmax               3\n",
      "tempmin               1\n",
      "temp                  2\n",
      "feelslikemax          0\n",
      "feelslikemin         20\n",
      "feelslike             0\n",
      "dew                  41\n",
      "humidity             91\n",
      "precip              639\n",
      "precipprob            0\n",
      "precipcover         169\n",
      "snow                  0\n",
      "snowdepth             0\n",
      "windgust            117\n",
      "windspeed            59\n",
      "winddir             664\n",
      "sealevelpressure      1\n",
      "cloudcover            0\n",
      "visibility          119\n",
      "solarradiation        0\n",
      "solarenergy           0\n",
      "uvindex               0\n",
      "severerisk            0\n",
      "moonphase             0\n",
      "dtype: int64\n"
     ]
    }
   ],
   "source": [
    "# Phát hiện outliers bằng phương pháp IQR\n",
    "numeric_cols_d = df_daily.select_dtypes(include=[np.number]).columns\n",
    "\n",
    "Q1_d = df_daily[numeric_cols_d].quantile(0.25)\n",
    "Q3_d = df_daily[numeric_cols_d].quantile(0.75)\n",
    "IQR_d = Q3_d - Q1_d\n",
    "\n",
    "outliers_d = ((df_daily[numeric_cols_d] < (Q1_d - 1.5 * IQR_d)) | \n",
    "              (df_daily[numeric_cols_d] > (Q3_d + 1.5 * IQR_d))).sum()\n",
    "\n",
    "print(\"Số lượng outliers (theo từng cột):\\n\", outliers_d)"
   ]
  },
  {
   "cell_type": "code",
   "execution_count": 14,
   "id": "8a0d7acb",
   "metadata": {},
   "outputs": [],
   "source": [
    "# Xử lý outliers  cho từng tập"
   ]
  },
  {
   "cell_type": "code",
   "execution_count": 15,
   "id": "425c3e8a",
   "metadata": {},
   "outputs": [
    {
     "name": "stdout",
     "output_type": "stream",
     "text": [
      "                   tempmax   tempmin      temp  feelslikemax  feelslikemin  \\\n",
      "tempmax           1.000000  0.909259  0.977722      0.964647      0.889029   \n",
      "tempmin           0.909259  1.000000  0.969581      0.910259      0.963060   \n",
      "temp              0.977722  0.969581  1.000000      0.957785      0.942461   \n",
      "feelslikemax      0.964647  0.910259  0.957785      1.000000      0.899939   \n",
      "feelslikemin      0.889029  0.963060  0.942461      0.899939      1.000000   \n",
      "feelslike         0.954692  0.942145  0.974478      0.979062      0.951898   \n",
      "dew               0.843814  0.932995  0.902911      0.866739      0.872035   \n",
      "humidity          0.011194  0.226346  0.100473      0.097697      0.140572   \n",
      "precip            0.056500  0.130930  0.090129      0.099973      0.079126   \n",
      "precipprob        0.069758  0.251155  0.150019      0.141172      0.186441   \n",
      "precipcover       0.061395  0.170696  0.106710      0.094612      0.124118   \n",
      "snow                   NaN       NaN       NaN           NaN           NaN   \n",
      "snowdepth              NaN       NaN       NaN           NaN           NaN   \n",
      "windgust          0.126321  0.144815  0.135714      0.119640      0.116548   \n",
      "windspeed         0.155296  0.155355  0.153572      0.181514      0.142490   \n",
      "winddir           0.178907  0.131802  0.160796      0.139831      0.117878   \n",
      "sealevelpressure -0.831940 -0.873497 -0.871299     -0.868614     -0.852792   \n",
      "cloudcover       -0.348941 -0.072704 -0.229735     -0.261801     -0.109056   \n",
      "visibility        0.423594  0.351907  0.407026      0.443700      0.389634   \n",
      "solarradiation    0.704166  0.491328  0.622919      0.657414      0.538515   \n",
      "solarenergy       0.703921  0.491023  0.622662      0.657044      0.538245   \n",
      "uvindex           0.670989  0.461985  0.588224      0.622097      0.493491   \n",
      "severerisk        0.631045  0.634639  0.645264      0.747540      0.657229   \n",
      "moonphase        -0.004808  0.004376 -0.001724     -0.000012      0.005096   \n",
      "\n",
      "                  feelslike       dew  humidity    precip  precipprob  ...  \\\n",
      "tempmax            0.954692  0.843814  0.011194  0.056500    0.069758  ...   \n",
      "tempmin            0.942145  0.932995  0.226346  0.130930    0.251155  ...   \n",
      "temp               0.974478  0.902911  0.100473  0.090129    0.150019  ...   \n",
      "feelslikemax       0.979062  0.866739  0.097697  0.099973    0.141172  ...   \n",
      "feelslikemin       0.951898  0.872035  0.140572  0.079126    0.186441  ...   \n",
      "feelslike          1.000000  0.876747  0.087248  0.075308    0.153466  ...   \n",
      "dew                0.876747  1.000000  0.515627  0.191029    0.365462  ...   \n",
      "humidity           0.087248  0.515627  1.000000  0.272902    0.536463  ...   \n",
      "precip             0.075308  0.191029  0.272902  1.000000    0.204205  ...   \n",
      "precipprob         0.153466  0.365462  0.536463  0.204205    1.000000  ...   \n",
      "precipcover        0.094427  0.226541  0.307818  0.237283    0.466898  ...   \n",
      "snow                    NaN       NaN       NaN       NaN         NaN  ...   \n",
      "snowdepth               NaN       NaN       NaN       NaN         NaN  ...   \n",
      "windgust           0.108293  0.129564  0.033522  0.200836    0.140948  ...   \n",
      "windspeed          0.156894  0.145092  0.021667  0.160465    0.147034  ...   \n",
      "winddir            0.134485  0.111559 -0.051004  0.042622   -0.038469  ...   \n",
      "sealevelpressure  -0.879468 -0.878616 -0.304240 -0.203139   -0.244314  ...   \n",
      "cloudcover        -0.224390  0.014352  0.474146  0.163236    0.433749  ...   \n",
      "visibility         0.449686  0.163246 -0.449586  0.031596   -0.087397  ...   \n",
      "solarradiation     0.638070  0.376366 -0.359221 -0.185022   -0.326394  ...   \n",
      "solarenergy        0.637744  0.375938 -0.359700 -0.185172   -0.326666  ...   \n",
      "uvindex            0.593363  0.355663 -0.340636 -0.174915   -0.318079  ...   \n",
      "severerisk         0.731625  0.639490  0.239852  0.061563    0.191642  ...   \n",
      "moonphase         -0.001764  0.003837  0.013719  0.003692    0.004588  ...   \n",
      "\n",
      "                  windspeed   winddir  sealevelpressure  cloudcover  \\\n",
      "tempmax            0.155296  0.178907         -0.831940   -0.348941   \n",
      "tempmin            0.155355  0.131802         -0.873497   -0.072704   \n",
      "temp               0.153572  0.160796         -0.871299   -0.229735   \n",
      "feelslikemax       0.181514  0.139831         -0.868614   -0.261801   \n",
      "feelslikemin       0.142490  0.117878         -0.852792   -0.109056   \n",
      "feelslike          0.156894  0.134485         -0.879468   -0.224390   \n",
      "dew                0.145092  0.111559         -0.878616    0.014352   \n",
      "humidity           0.021667 -0.051004         -0.304240    0.474146   \n",
      "precip             0.160465  0.042622         -0.203139    0.163236   \n",
      "precipprob         0.147034 -0.038469         -0.244314    0.433749   \n",
      "precipcover        0.114886 -0.025001         -0.138522    0.207794   \n",
      "snow                    NaN       NaN               NaN         NaN   \n",
      "snowdepth               NaN       NaN               NaN         NaN   \n",
      "windgust           0.596455  0.017012         -0.169506    0.161128   \n",
      "windspeed          1.000000 -0.147815         -0.182464    0.172048   \n",
      "winddir           -0.147815  1.000000         -0.126462   -0.158026   \n",
      "sealevelpressure  -0.182464 -0.126462          1.000000    0.014978   \n",
      "cloudcover         0.172048 -0.158026          0.014978    1.000000   \n",
      "visibility         0.256933  0.038557         -0.271571   -0.210384   \n",
      "solarradiation     0.056180  0.150696         -0.468001   -0.592893   \n",
      "solarenergy        0.056391  0.151085         -0.467680   -0.592562   \n",
      "uvindex            0.038442  0.155209         -0.427426   -0.584111   \n",
      "severerisk         0.241532  0.014401         -0.664499   -0.053819   \n",
      "moonphase         -0.016250 -0.042785          0.010547    0.025537   \n",
      "\n",
      "                  visibility  solarradiation  solarenergy   uvindex  \\\n",
      "tempmax             0.423594        0.704166     0.703921  0.670989   \n",
      "tempmin             0.351907        0.491328     0.491023  0.461985   \n",
      "temp                0.407026        0.622919     0.622662  0.588224   \n",
      "feelslikemax        0.443700        0.657414     0.657044  0.622097   \n",
      "feelslikemin        0.389634        0.538515     0.538245  0.493491   \n",
      "feelslike           0.449686        0.638070     0.637744  0.593363   \n",
      "dew                 0.163246        0.376366     0.375938  0.355663   \n",
      "humidity           -0.449586       -0.359221    -0.359700 -0.340636   \n",
      "precip              0.031596       -0.185022    -0.185172 -0.174915   \n",
      "precipprob         -0.087397       -0.326394    -0.326666 -0.318079   \n",
      "precipcover        -0.017028       -0.240914    -0.241073 -0.226507   \n",
      "snow                     NaN             NaN          NaN       NaN   \n",
      "snowdepth                NaN             NaN          NaN       NaN   \n",
      "windgust            0.156346        0.008665     0.008924  0.010050   \n",
      "windspeed           0.256933        0.056180     0.056391  0.038442   \n",
      "winddir             0.038557        0.150696     0.151085  0.155209   \n",
      "sealevelpressure   -0.271571       -0.468001    -0.467680 -0.427426   \n",
      "cloudcover         -0.210384       -0.592893    -0.592562 -0.584111   \n",
      "visibility          1.000000        0.393439     0.393615  0.355838   \n",
      "solarradiation      0.393439        1.000000     0.999891  0.961530   \n",
      "solarenergy         0.393615        0.999891     1.000000  0.961284   \n",
      "uvindex             0.355838        0.961530     0.961284  1.000000   \n",
      "severerisk          0.286256        0.446818     0.446577  0.413962   \n",
      "moonphase          -0.037058       -0.001796    -0.001843  0.006748   \n",
      "\n",
      "                  severerisk  moonphase  \n",
      "tempmax             0.631045  -0.004808  \n",
      "tempmin             0.634639   0.004376  \n",
      "temp                0.645264  -0.001724  \n",
      "feelslikemax        0.747540  -0.000012  \n",
      "feelslikemin        0.657229   0.005096  \n",
      "feelslike           0.731625  -0.001764  \n",
      "dew                 0.639490   0.003837  \n",
      "humidity            0.239852   0.013719  \n",
      "precip              0.061563   0.003692  \n",
      "precipprob          0.191642   0.004588  \n",
      "precipcover         0.076873  -0.040929  \n",
      "snow                     NaN        NaN  \n",
      "snowdepth                NaN        NaN  \n",
      "windgust            0.075916  -0.024389  \n",
      "windspeed           0.241532  -0.016250  \n",
      "winddir             0.014401  -0.042785  \n",
      "sealevelpressure   -0.664499   0.010547  \n",
      "cloudcover         -0.053819   0.025537  \n",
      "visibility          0.286256  -0.037058  \n",
      "solarradiation      0.446818  -0.001796  \n",
      "solarenergy         0.446577  -0.001843  \n",
      "uvindex             0.413962   0.006748  \n",
      "severerisk          1.000000   0.002545  \n",
      "moonphase           0.002545   1.000000  \n",
      "\n",
      "[24 rows x 24 columns]\n"
     ]
    }
   ],
   "source": [
    "# Ma trận tương quan\n",
    "corr = df_daily.corr(numeric_only=True)\n",
    "print(corr)"
   ]
  },
  {
   "cell_type": "code",
   "execution_count": 16,
   "id": "7376f92a",
   "metadata": {},
   "outputs": [],
   "source": [
    "# Chuẩn hóa (fit cho train rồi transform cho train test)"
   ]
  },
  {
   "cell_type": "code",
   "execution_count": 17,
   "id": "575f6411",
   "metadata": {},
   "outputs": [],
   "source": [
    "# Xử lý text (fit cho train rồi transform cho train test)"
   ]
  },
  {
   "cell_type": "code",
   "execution_count": 18,
   "id": "5c777c6e",
   "metadata": {},
   "outputs": [],
   "source": [
    "# Lưu dữ liệu tập train test để training"
   ]
  },
  {
   "cell_type": "markdown",
   "id": "93a37a79",
   "metadata": {},
   "source": [
    "# II. Data hourly"
   ]
  },
  {
   "cell_type": "code",
   "execution_count": 19,
   "id": "c501f517",
   "metadata": {},
   "outputs": [],
   "source": [
    "# Load the dataset\n",
    "df_hourly = pd.read_excel(r\"../data/raw/hanoi_hourly.xlsx\")"
   ]
  },
  {
   "cell_type": "code",
   "execution_count": 20,
   "id": "2db3a4f2",
   "metadata": {},
   "outputs": [
    {
     "name": "stdout",
     "output_type": "stream",
     "text": [
      "Numeric features: ['temp', 'feelslike', 'dew', 'humidity', 'precip', 'precipprob', 'snow', 'snowdepth', 'windgust', 'windspeed', 'winddir', 'sealevelpressure', 'cloudcover', 'visibility', 'solarradiation', 'solarenergy', 'uvindex', 'severerisk']\n",
      "Categorical features: ['name', 'datetime', 'preciptype', 'conditions', 'icon', 'stations']\n"
     ]
    }
   ],
   "source": [
    "# Xác định loại dữ liệu\n",
    "numerical_features = df_hourly.select_dtypes(include=['float64', 'int64']).columns.tolist()\n",
    "categorical_features = df_hourly.select_dtypes(include=['object']).columns.tolist()\n",
    "\n",
    "print(\"Numeric features:\", numerical_features)\n",
    "print(\"Categorical features:\", categorical_features)"
   ]
  },
  {
   "cell_type": "code",
   "execution_count": 21,
   "id": "57dd0454",
   "metadata": {},
   "outputs": [],
   "source": [
    "# Chia train test"
   ]
  },
  {
   "cell_type": "code",
   "execution_count": 22,
   "id": "90665a3f",
   "metadata": {},
   "outputs": [
    {
     "name": "stdout",
     "output_type": "stream",
     "text": [
      "Số lượng giá trị thiếu:\n",
      " name                    0\n",
      "datetime                0\n",
      "temp                    0\n",
      "feelslike               0\n",
      "dew                     0\n",
      "humidity                0\n",
      "precip                 39\n",
      "precipprob              0\n",
      "preciptype          82193\n",
      "snow                   42\n",
      "snowdepth              42\n",
      "windgust               49\n",
      "windspeed               1\n",
      "winddir                 2\n",
      "sealevelpressure        0\n",
      "cloudcover              0\n",
      "visibility            178\n",
      "solarradiation         36\n",
      "solarenergy            36\n",
      "uvindex                36\n",
      "severerisk          61603\n",
      "conditions              0\n",
      "icon                    0\n",
      "stations                0\n",
      "dtype: int64\n",
      "\n",
      "Tỷ lệ thiếu (%):\n",
      " name                 0.00\n",
      "datetime             0.00\n",
      "temp                 0.00\n",
      "feelslike            0.00\n",
      "dew                  0.00\n",
      "humidity             0.00\n",
      "precip               0.04\n",
      "precipprob           0.00\n",
      "preciptype          87.21\n",
      "snow                 0.04\n",
      "snowdepth            0.04\n",
      "windgust             0.05\n",
      "windspeed            0.00\n",
      "winddir              0.00\n",
      "sealevelpressure     0.00\n",
      "cloudcover           0.00\n",
      "visibility           0.19\n",
      "solarradiation       0.04\n",
      "solarenergy          0.04\n",
      "uvindex              0.04\n",
      "severerisk          65.36\n",
      "conditions           0.00\n",
      "icon                 0.00\n",
      "stations             0.00\n",
      "dtype: float64\n",
      "\n",
      "Số dòng trùng lặp: 0\n"
     ]
    }
   ],
   "source": [
    "# Kiểm tra missing values và duplicates\n",
    "print(\"Số lượng giá trị thiếu:\\n\", df_hourly.isnull().sum())\n",
    "print(\"\\nTỷ lệ thiếu (%):\\n\", (df_hourly.isnull().mean() * 100).round(2))\n",
    "\n",
    "dupes_hourly = df_daily.duplicated().sum()\n",
    "print(f\"\\nSố dòng trùng lặp: {dupes_hourly}\")"
   ]
  },
  {
   "cell_type": "code",
   "execution_count": 23,
   "id": "e6954ea9",
   "metadata": {},
   "outputs": [],
   "source": [
    "# Xử lý missing values cho từng tập"
   ]
  },
  {
   "cell_type": "code",
   "execution_count": 24,
   "id": "7163b3b6",
   "metadata": {},
   "outputs": [
    {
     "name": "stdout",
     "output_type": "stream",
     "text": [
      "Số lượng outliers (theo từng cột):\n",
      " temp                 102\n",
      "feelslike              0\n",
      "dew                 1312\n",
      "humidity             414\n",
      "precip              7771\n",
      "precipprob          7771\n",
      "snow                   0\n",
      "snowdepth              0\n",
      "windgust            1193\n",
      "windspeed           1514\n",
      "winddir                0\n",
      "sealevelpressure      41\n",
      "cloudcover             0\n",
      "visibility          4689\n",
      "solarradiation      7175\n",
      "solarenergy         7072\n",
      "uvindex             9387\n",
      "severerisk          7963\n",
      "dtype: int64\n"
     ]
    }
   ],
   "source": [
    "# Phát hiện outliers bằng phương pháp IQR\n",
    "numeric_cols_d = df_hourly.select_dtypes(include=[np.number]).columns\n",
    "\n",
    "Q1_d = df_hourly[numeric_cols_d].quantile(0.25)\n",
    "Q3_d = df_hourly[numeric_cols_d].quantile(0.75)\n",
    "IQR_d = Q3_d - Q1_d\n",
    "\n",
    "outliers_d = ((df_hourly[numeric_cols_d] < (Q1_d - 1.5 * IQR_d)) | \n",
    "              (df_hourly[numeric_cols_d] > (Q3_d + 1.5 * IQR_d))).sum()\n",
    "\n",
    "print(\"Số lượng outliers (theo từng cột):\\n\", outliers_d)"
   ]
  },
  {
   "cell_type": "code",
   "execution_count": 25,
   "id": "c55a62d2",
   "metadata": {},
   "outputs": [],
   "source": [
    "# Xử lý outliers  cho từng tập"
   ]
  },
  {
   "cell_type": "code",
   "execution_count": 26,
   "id": "e2ad9942",
   "metadata": {},
   "outputs": [
    {
     "name": "stdout",
     "output_type": "stream",
     "text": [
      "                      temp  feelslike       dew  humidity    precip  \\\n",
      "temp              1.000000   0.963668  0.793498 -0.195288  0.008059   \n",
      "feelslike         0.963668   1.000000  0.780998 -0.171755 -0.002804   \n",
      "dew               0.793498   0.780998  1.000000  0.435492  0.043367   \n",
      "humidity         -0.195288  -0.171755  0.435492  1.000000  0.061424   \n",
      "precip            0.008059  -0.002804  0.043367  0.061424  1.000000   \n",
      "precipprob        0.043853   0.035472  0.086414  0.072175  0.274176   \n",
      "snow                   NaN        NaN       NaN       NaN       NaN   \n",
      "snowdepth              NaN        NaN       NaN       NaN       NaN   \n",
      "windgust          0.205252   0.176198  0.053895 -0.218298  0.033686   \n",
      "windspeed         0.088959   0.088346  0.008403 -0.129585 -0.016352   \n",
      "winddir           0.074593   0.055246  0.016532 -0.078726  0.022063   \n",
      "sealevelpressure -0.816868  -0.813780 -0.837978 -0.151234 -0.050082   \n",
      "cloudcover       -0.119108  -0.120157 -0.000681  0.169233  0.056437   \n",
      "visibility        0.346025   0.361043  0.067159 -0.422959 -0.002736   \n",
      "solarradiation    0.448334   0.437110  0.076759 -0.528611 -0.029210   \n",
      "solarenergy       0.448067   0.436833  0.076598 -0.528503 -0.029571   \n",
      "uvindex           0.446803   0.435364  0.076684 -0.526625 -0.029980   \n",
      "severerisk        0.486025   0.582792  0.399613 -0.074616  0.005121   \n",
      "\n",
      "                  precipprob  snow  snowdepth  windgust  windspeed   winddir  \\\n",
      "temp                0.043853   NaN        NaN  0.205252   0.088959  0.074593   \n",
      "feelslike           0.035472   NaN        NaN  0.176198   0.088346  0.055246   \n",
      "dew                 0.086414   NaN        NaN  0.053895   0.008403  0.016532   \n",
      "humidity            0.072175   NaN        NaN -0.218298  -0.129585 -0.078726   \n",
      "precip              0.274176   NaN        NaN  0.033686  -0.016352  0.022063   \n",
      "precipprob          1.000000   NaN        NaN  0.073691  -0.006617  0.006698   \n",
      "snow                     NaN   NaN        NaN       NaN        NaN       NaN   \n",
      "snowdepth                NaN   NaN        NaN       NaN        NaN       NaN   \n",
      "windgust            0.073691   NaN        NaN  1.000000   0.531931 -0.018638   \n",
      "windspeed          -0.006617   NaN        NaN  0.531931   1.000000 -0.171902   \n",
      "winddir             0.006698   NaN        NaN -0.018638  -0.171902  1.000000   \n",
      "sealevelpressure   -0.049521   NaN        NaN -0.114931  -0.081467 -0.029606   \n",
      "cloudcover          0.112877   NaN        NaN  0.155741   0.099529 -0.045879   \n",
      "visibility          0.000577   NaN        NaN  0.200960   0.098888  0.053166   \n",
      "solarradiation      0.006371   NaN        NaN  0.347644   0.083073  0.094073   \n",
      "solarenergy         0.005984   NaN        NaN  0.347752   0.083370  0.093979   \n",
      "uvindex             0.004957   NaN        NaN  0.346815   0.083186  0.093900   \n",
      "severerisk          0.039417   NaN        NaN  0.085123   0.090304 -0.008049   \n",
      "\n",
      "                  sealevelpressure  cloudcover  visibility  solarradiation  \\\n",
      "temp                     -0.816868   -0.119108    0.346025        0.448334   \n",
      "feelslike                -0.813780   -0.120157    0.361043        0.437110   \n",
      "dew                      -0.837978   -0.000681    0.067159        0.076759   \n",
      "humidity                 -0.151234    0.169233   -0.422959       -0.528611   \n",
      "precip                   -0.050082    0.056437   -0.002736       -0.029210   \n",
      "precipprob               -0.049521    0.112877    0.000577        0.006371   \n",
      "snow                           NaN         NaN         NaN             NaN   \n",
      "snowdepth                      NaN         NaN         NaN             NaN   \n",
      "windgust                 -0.114931    0.155741    0.200960        0.347644   \n",
      "windspeed                -0.081467    0.099529    0.098888        0.083073   \n",
      "winddir                  -0.029606   -0.045879    0.053166        0.094073   \n",
      "sealevelpressure          1.000000    0.017911   -0.185517       -0.158598   \n",
      "cloudcover                0.017911    1.000000   -0.011003       -0.053576   \n",
      "visibility               -0.185517   -0.011003    1.000000        0.245988   \n",
      "solarradiation           -0.158598   -0.053576    0.245988        1.000000   \n",
      "solarenergy              -0.158434   -0.053602    0.245991        0.999700   \n",
      "uvindex                  -0.157818   -0.053316    0.245618        0.996328   \n",
      "severerisk               -0.430464   -0.029435    0.201357        0.334040   \n",
      "\n",
      "                  solarenergy   uvindex  severerisk  \n",
      "temp                 0.448067  0.446803    0.486025  \n",
      "feelslike            0.436833  0.435364    0.582792  \n",
      "dew                  0.076598  0.076684    0.399613  \n",
      "humidity            -0.528503 -0.526625   -0.074616  \n",
      "precip              -0.029571 -0.029980    0.005121  \n",
      "precipprob           0.005984  0.004957    0.039417  \n",
      "snow                      NaN       NaN         NaN  \n",
      "snowdepth                 NaN       NaN         NaN  \n",
      "windgust             0.347752  0.346815    0.085123  \n",
      "windspeed            0.083370  0.083186    0.090304  \n",
      "winddir              0.093979  0.093900   -0.008049  \n",
      "sealevelpressure    -0.158434 -0.157818   -0.430464  \n",
      "cloudcover          -0.053602 -0.053316   -0.029435  \n",
      "visibility           0.245991  0.245618    0.201357  \n",
      "solarradiation       0.999700  0.996328    0.334040  \n",
      "solarenergy          1.000000  0.996018    0.333836  \n",
      "uvindex              0.996018  1.000000    0.332739  \n",
      "severerisk           0.333836  0.332739    1.000000  \n"
     ]
    }
   ],
   "source": [
    "# Ma trận tương quan\n",
    "corr = df_hourly.corr(numeric_only=True)\n",
    "print(corr)"
   ]
  },
  {
   "cell_type": "code",
   "execution_count": 27,
   "id": "f85d096c",
   "metadata": {},
   "outputs": [],
   "source": [
    "# Chuẩn hóa (fit cho train rồi transform cho train test)"
   ]
  },
  {
   "cell_type": "code",
   "execution_count": 28,
   "id": "38f555dd",
   "metadata": {},
   "outputs": [],
   "source": [
    "# Xử lý text (fit cho train rồi transform cho train test)"
   ]
  },
  {
   "cell_type": "code",
   "execution_count": 29,
   "id": "a2e8d922",
   "metadata": {},
   "outputs": [],
   "source": [
    "# Lưu dữ liệu tập train test để training"
   ]
  }
 ],
 "metadata": {
  "kernelspec": {
   "display_name": "Python 3",
   "language": "python",
   "name": "python3"
  },
  "language_info": {
   "codemirror_mode": {
    "name": "ipython",
    "version": 3
   },
   "file_extension": ".py",
   "mimetype": "text/x-python",
   "name": "python",
   "nbconvert_exporter": "python",
   "pygments_lexer": "ipython3",
   "version": "3.12.4"
  }
 },
 "nbformat": 4,
 "nbformat_minor": 5
}
