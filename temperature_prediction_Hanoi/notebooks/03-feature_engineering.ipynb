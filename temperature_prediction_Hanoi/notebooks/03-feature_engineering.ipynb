{
 "cells": [
  {
   "cell_type": "markdown",
   "id": "f100440e",
   "metadata": {},
   "source": [
    "# Feature Engineering\n",
    "\n",
    "In this notebook, we will create and refine features to improve model performance. "
   ]
  },
  {
   "cell_type": "code",
   "execution_count": 1,
   "id": "c14a2894",
   "metadata": {},
   "outputs": [],
   "source": [
    "import pandas as pd"
   ]
  },
  {
   "cell_type": "markdown",
   "id": "7b2b99cc",
   "metadata": {},
   "source": [
    "# I. Data daily"
   ]
  },
  {
   "cell_type": "code",
   "execution_count": 2,
   "id": "5d40aa33",
   "metadata": {},
   "outputs": [],
   "source": [
    "# Đọc dữ liệu train test"
   ]
  },
  {
   "cell_type": "code",
   "execution_count": 3,
   "id": "dab3e01e",
   "metadata": {},
   "outputs": [],
   "source": [
    "# Tính toán các feature"
   ]
  },
  {
   "cell_type": "code",
   "execution_count": 4,
   "id": "c89fdb61",
   "metadata": {},
   "outputs": [],
   "source": [
    "# Lưu dữ liệu tập train test để training"
   ]
  },
  {
   "cell_type": "markdown",
   "id": "dd6e81e1",
   "metadata": {},
   "source": [
    "# II. Data hourly"
   ]
  },
  {
   "cell_type": "code",
   "execution_count": 5,
   "id": "adb8d269",
   "metadata": {},
   "outputs": [],
   "source": [
    "# Đọc dữ liệu train test"
   ]
  },
  {
   "cell_type": "code",
   "execution_count": 6,
   "id": "22f2790f",
   "metadata": {},
   "outputs": [],
   "source": [
    "# Tính toán các feature"
   ]
  },
  {
   "cell_type": "code",
   "execution_count": 7,
   "id": "bfc0e5a5",
   "metadata": {},
   "outputs": [],
   "source": [
    "# Lưu dữ liệu tập train test để training"
   ]
  }
 ],
 "metadata": {
  "kernelspec": {
   "display_name": "Python 3",
   "language": "python",
   "name": "python3"
  },
  "language_info": {
   "codemirror_mode": {
    "name": "ipython",
    "version": 3
   },
   "file_extension": ".py",
   "mimetype": "text/x-python",
   "name": "python",
   "nbconvert_exporter": "python",
   "pygments_lexer": "ipython3",
   "version": "3.12.4"
  }
 },
 "nbformat": 4,
 "nbformat_minor": 5
}
