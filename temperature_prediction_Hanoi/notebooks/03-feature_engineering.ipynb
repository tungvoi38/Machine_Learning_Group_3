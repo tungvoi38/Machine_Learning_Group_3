{
 "cells": [
  {
   "cell_type": "markdown",
   "id": "f100440e",
   "metadata": {},
   "source": [
    "# Feature Engineering\n",
    "\n",
    "In this notebook, we will create and refine features to improve model performance. "
   ]
  },
  {
   "cell_type": "code",
   "execution_count": 1,
   "id": "c14a2894",
   "metadata": {},
   "outputs": [],
   "source": [
    "import pandas as pd"
   ]
  },
  {
   "cell_type": "code",
   "execution_count": 2,
   "id": "5d40aa33",
   "metadata": {},
   "outputs": [],
   "source": [
    "# Đọc dữ liệu train test"
   ]
  },
  {
   "cell_type": "code",
   "execution_count": 3,
   "id": "dab3e01e",
   "metadata": {},
   "outputs": [],
   "source": [
    "# Tính toán các feature"
   ]
  },
  {
   "cell_type": "code",
   "execution_count": 4,
   "id": "c89fdb61",
   "metadata": {},
   "outputs": [],
   "source": [
    "# Lưu dữ liệu tập train test để training"
   ]
  },
  {
   "cell_type": "code",
   "execution_count": null,
   "id": "adb8d269",
   "metadata": {},
   "outputs": [],
   "source": []
  }
 ],
 "metadata": {
  "kernelspec": {
   "display_name": "Python 3",
   "language": "python",
   "name": "python3"
  },
  "language_info": {
   "codemirror_mode": {
    "name": "ipython",
    "version": 3
   },
   "file_extension": ".py",
   "mimetype": "text/x-python",
   "name": "python",
   "nbconvert_exporter": "python",
   "pygments_lexer": "ipython3",
   "version": "3.12.4"
  }
 },
 "nbformat": 4,
 "nbformat_minor": 5
}
